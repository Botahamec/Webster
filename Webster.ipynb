{
  "cells": [
    {
      "cell_type": "markdown",
      "source": [
        "# Webster"
      ],
      "metadata": {}
    },
    {
      "cell_type": "markdown",
      "source": [
        "Webster is a library made to help create programs with some object permanence. This example is in Python but there will eventually be a version built in Rust."
      ],
      "metadata": {}
    },
    {
      "cell_type": "markdown",
      "source": [
        "Webster has two things to take note of. The dictionary and the memory. The dictionary is the place where the possible objects are stored, as well as the properties of each object. The memory is where all the objects that the program knows about are stored, as well as information for each object."
      ],
      "metadata": {}
    },
    {
      "cell_type": "markdown",
      "source": [
        "In order to define objects and definitions we must first create a property type. This should be relatively simple:"
      ],
      "metadata": {}
    },
    {
      "cell_type": "code",
      "source": [
        "class Property:\n",
        "    def __init__(self, name, value):\n",
        "        self.name = name   # The name of the property\n",
        "        self.value = value # The value assigned to the property\n",
        "    def set_value(self, value): # Resets the value given to the property\n",
        "        self.value = value"
      ],
      "outputs": [],
      "execution_count": 1,
      "metadata": {}
    },
    {
      "cell_type": "markdown",
      "source": [
        "In this case the name is a string and the value can be of any type."
      ],
      "metadata": {}
    },
    {
      "cell_type": "markdown",
      "source": [
        "Now we need a definition type. This will store a list of properties. Here is a definition for the Definition:"
      ],
      "metadata": {}
    },
    {
      "cell_type": "code",
      "source": [
        "class Definition:\n",
        "    \n",
        "    def __init__(self, name, properties):\n",
        "        self.name = name             # The name of the object being defined\n",
        "        self.properties = properties # The array of properties of the object being defined\n",
        "        \n",
        "    def property(self, name): # The returns a property based on its name\n",
        "        for prop in self.properties:\n",
        "            if prop.name == name: return prop\n",
        "        raise ValueError(\"no property of the given name found\")\n",
        "        \n",
        "    def new_property(self, name, value): # Creates a new property for a definition\n",
        "        try: self.property(name) # Doesn't create two properties with the same name\n",
        "        except: self.properties.append(Property(name, value))\n",
        "            \n",
        "    def set_property(self, name, value): # Sets a new value for the given property\n",
        "        for prop in self.properties:\n",
        "            if prop.name == name: \n",
        "                prop.set_value(value)\n",
        "                return\n",
        "        raise ValueError(\"no property of the given name found\")"
      ],
      "outputs": [],
      "execution_count": 2,
      "metadata": {}
    },
    {
      "cell_type": "markdown",
      "source": [
        "Now creating definitions is super simple. Here's an example of what you can do:"
      ],
      "metadata": {}
    },
    {
      "cell_type": "code",
      "source": [
        "food = Definition(\"Food\", [Property(\"Group\", None), Property(\"Color\", None), Property(\"Taste\", None)])"
      ],
      "outputs": [],
      "execution_count": 3,
      "metadata": {}
    },
    {
      "cell_type": "markdown",
      "source": [
        "Notice that we set all of the values to \"None\". This is because we don't know these properties for any given food. However, we can give definitions of foods which have these properties defined. This is similar to inheritance in object oriented programming and we'll need a new function to do it."
      ],
      "metadata": {}
    },
    {
      "cell_type": "code",
      "source": [
        "def definition_of_type(name, definition, properties): # Creates a new definition using the properties of the old one\n",
        "    new_definition = definition\n",
        "    new_definition.name = name\n",
        "    for prop in properties:\n",
        "        try: new_definition.set_property(prop.name, prop.value)\n",
        "        except: new_definition.new_property(prop.name, prop.value)\n",
        "    return new_definition"
      ],
      "outputs": [],
      "execution_count": 4,
      "metadata": {}
    },
    {
      "cell_type": "markdown",
      "source": [
        "Now we can create a new definition for a specific type of food. We'll use apples in this example. All we really need to do is call the definiton_of_type function correctly. This is how you would do that:"
      ],
      "metadata": {}
    },
    {
      "cell_type": "code",
      "source": [
        "apple = definition_of_type(\"Apple\", food, [Property(\"Group\", \"fruit\"), Property(\"Color\", \"red\"), Property(\"Taste\", \"sweet\")])"
      ],
      "outputs": [],
      "execution_count": 5,
      "metadata": {
        "collapsed": false,
        "outputHidden": false,
        "inputHidden": false
      }
    },
    {
      "cell_type": "markdown",
      "source": [
        "Now we have a new definition for apples, which are a type of food. In the example we just provided, all we really did was define properties which already existed. But we could go farther and define more properties. Perhaps instead of the definition above, you could use the following defintion:"
      ],
      "metadata": {}
    },
    {
      "cell_type": "code",
      "source": [
        "apple = definition_of_type(\"Apple\", food, [Property(\"Group\", \"fruit\"), Property(\"Taste\", \"sweet\"), Property(\"Species\", None)])"
      ],
      "outputs": [],
      "execution_count": 6,
      "metadata": {
        "collapsed": false,
        "outputHidden": false,
        "inputHidden": false,
        "outputExpanded": false
      }
    },
    {
      "cell_type": "markdown",
      "source": [
        "We are allowed to create more undefined types. We could specify a Macintosh apple or a Red Delicious Apple. You may have have noticed that we didn't define a color this time around. This actually makes more sense, because apples come in different colors, so we left the color undefined."
      ],
      "metadata": {}
    },
    {
      "cell_type": "markdown",
      "source": [
        "The next thing we need to talk about is the memory. This contains all the instances of objects which Webster currently knows about. So we need to define an object class to contain all of the objects."
      ],
      "metadata": {}
    },
    {
      "cell_type": "code",
      "source": [
        "class Object:\n",
        "    \n",
        "    def __init__(self, id, properties):\n",
        "        self.id = id\n",
        "        self.properties = properties\n",
        "        \n",
        "    def property(self, name): # The returns a property based on its name\n",
        "        for prop in self.properties:\n",
        "            if prop.name == name: return prop\n",
        "        raise ValueError(\"no property of the given name found\")\n",
        "        \n",
        "    def new_property(self, name, value): # Creates a new property for a definition\n",
        "        try: self.property(name) # Doesn't create two properties with the same name\n",
        "        except: self.properties.append(Property(name, value))\n",
        "            \n",
        "    def set_property(self, name, value): # Sets a new value for the given property\n",
        "        for prop in self.properties:\n",
        "            if prop.name == name: \n",
        "                prop.set_value(value)\n",
        "                return\n",
        "        raise ValueError(\"no property of the given name found\")\n",
        "        \n",
        "def object_of_type(id, definition): # Creates an object of a certain type\n",
        "    return Object(id, definition.properties)"
      ],
      "outputs": [],
      "execution_count": 8,
      "metadata": {
        "collapsed": false,
        "outputHidden": false,
        "inputHidden": false
      }
    },
    {
      "cell_type": "markdown",
      "source": [
        "You probably have noticed that this looks very similar to the definition type. Later we will see the differences between objects and definitions. But for now we be using simple examples. Let's start with something simple: an apple. The easiest way to create an instance of an apple is to do the following:"
      ],
      "metadata": {}
    },
    {
      "cell_type": "code",
      "source": [
        "apple_obj = object_of_type(0, apple)"
      ],
      "outputs": [],
      "execution_count": 9,
      "metadata": {
        "collapsed": false,
        "outputHidden": false,
        "inputHidden": false
      }
    },
    {
      "cell_type": "markdown",
      "source": [
        "But we can do something more extravagant. And this is where the beauty of Webster comes from. However in order to do this we need to first create a Webster class. Webster will contain the ddictionary and the memory, as well as a few extra functions which we will get to."
      ],
      "metadata": {}
    },
    {
      "cell_type": "code",
      "source": [
        "class Webster:\n",
        "    \n",
        "    def __init__(self):\n",
        "        self.dictionary = []\n",
        "        self.memory = []\n",
        "        \n",
        "    def definition(self, name): # returns a definiton from the dictionary\n",
        "        for definition in self.dictionary:\n",
        "            if definition.name == name: return defintion\n",
        "        raise ValueError(\"no definition of the given name found\")\n",
        "        \n",
        "    def object(self, id): # returns an object of the given id\n",
        "        for object in self.memory:\n",
        "            if object.id == id: return object\n",
        "        raise ValueError(\"no object of the given id found\")\n",
        "    \n",
        "    # rewrite this function to be more efficient\n",
        "    def definiton_of_object(self, id): # finds the definition of the object of the given id\n",
        "        obj = self.object(id)\n",
        "        possible_definitions = []\n",
        "        for definition in self.dictionary:\n",
        "            match = True\n",
        "            for prop in definition.properties:\n",
        "                if prop.value != obj.property(prop.name) and prop.value != undefined:\n",
        "                    match = False\n",
        "                    break\n",
        "            if match: possible_definitions.push(definition)\n",
        "        if len(possible_definitions) == 1: return possible_definitions[0]\n",
        "        elif len(possible_definitions) == 0: raise ValueError(\"no definition found for the given object\")\n",
        "        else:\n",
        "            curr_definition = None\n",
        "            prop_num = 0\n",
        "            for definition in self.dictionary:\n",
        "                if len(definition.properties) > prop_num: \n",
        "                    curr_definition = definition\n",
        "                    prop_num = len(defintion.properties)\n",
        "                if len(definition.peoperties) == prop_num:\n",
        "                    curr_props = 0\n",
        "                    def_props = 0\n",
        "                    for prop in definition.properties:\n",
        "                        if prop == None: def_props += 1\n",
        "                    for prop in curr_definition.properties:\n",
        "                        if prop == None: curr_props += 1\n",
        "                    if curr_props > def_props: curr_definition = definition\n",
        "                    if curr_props == def_props: raise ValueError(\"multiple likely deinitions were found for the object\")\n",
        "            if prop_num == 0: raise ValueError(\"no definition found for the given object\")\n",
        "                \n",
        "    def check_object(self, id): # updates the properties of an object given its determined definition\n",
        "        obje = self.object(id)\n",
        "        defi = self.definition_of_object(id)\n",
        "        for prop in defi.properties:\n",
        "            if prop != None:\n",
        "                try: obje.set_property(prop.name, prop.value)\n",
        "                except: obje.new_property(prop.name, prop.value)\n",
        "            else:\n",
        "                try: obje.property(prop.name)\n",
        "                except: obje.new_property(prop.name, None)\n",
        "                    \n",
        "     # add already existing functions"
      ],
      "outputs": [],
      "execution_count": null,
      "metadata": {
        "collapsed": false,
        "outputHidden": false,
        "inputHidden": false
      }
    },
    {
      "cell_type": "code",
      "source": [],
      "outputs": [],
      "execution_count": null,
      "metadata": {
        "collapsed": false,
        "outputHidden": false,
        "inputHidden": false
      }
    }
  ],
  "metadata": {
    "kernelspec": {
      "name": "python3",
      "language": "python",
      "display_name": "Python 3"
    },
    "language_info": {
      "name": "python",
      "version": "3.7.4",
      "mimetype": "text/x-python",
      "codemirror_mode": {
        "name": "ipython",
        "version": 3
      },
      "pygments_lexer": "ipython3",
      "nbconvert_exporter": "python",
      "file_extension": ".py"
    },
    "kernel_info": {
      "name": "python3"
    },
    "nteract": {
      "version": "0.14.4"
    }
  },
  "nbformat": 4,
  "nbformat_minor": 2
}